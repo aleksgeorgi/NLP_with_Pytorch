{
  "nbformat": 4,
  "nbformat_minor": 0,
  "metadata": {
    "colab": {
      "provenance": [],
      "include_colab_link": true
    },
    "kernelspec": {
      "name": "python3",
      "display_name": "Python 3"
    },
    "language_info": {
      "name": "python"
    }
  },
  "cells": [
    {
      "cell_type": "markdown",
      "metadata": {
        "id": "view-in-github",
        "colab_type": "text"
      },
      "source": [
        "<a href=\"https://colab.research.google.com/github/aleksgeorgi/NLP_with_Pytorch/blob/main/02_02b_Intro_to_PyTorch_Tensor.ipynb\" target=\"_parent\"><img src=\"https://colab.research.google.com/assets/colab-badge.svg\" alt=\"Open In Colab\"/></a>"
      ]
    },
    {
      "cell_type": "markdown",
      "metadata": {
        "id": "NCYsbCuZ5ZcD"
      },
      "source": [
        "**PyTorch tensor**\n",
        "\n",
        "A tensor is a data structure or data container we use in PyTorch for carrying arrays of numbers.\n",
        "\n",
        "**a. Creating a tensor**"
      ]
    },
    {
      "cell_type": "code",
      "source": [
        "pip install torch"
      ],
      "metadata": {
        "id": "4QDcgyo1p3E1",
        "colab": {
          "base_uri": "https://localhost:8080/"
        },
        "outputId": "1c88b430-a5e9-428e-bcdd-025c362a4010"
      },
      "execution_count": 1,
      "outputs": [
        {
          "output_type": "stream",
          "name": "stdout",
          "text": [
            "Looking in indexes: https://pypi.org/simple, https://us-python.pkg.dev/colab-wheels/public/simple/\n",
            "Requirement already satisfied: torch in /usr/local/lib/python3.7/dist-packages (1.12.1+cu113)\n",
            "Requirement already satisfied: typing-extensions in /usr/local/lib/python3.7/dist-packages (from torch) (4.1.1)\n"
          ]
        }
      ]
    },
    {
      "cell_type": "code",
      "metadata": {
        "id": "CuV5OrPJ8aTG"
      },
      "source": [
        "import torch\n",
        "import numpy as np"
      ],
      "execution_count": 2,
      "outputs": []
    },
    {
      "cell_type": "code",
      "source": [
        "# Construct a tensor from an array\n",
        "array = [[1, 2], [7, 4], [5, 6]]\n",
        "tensor0 = torch.tensor(array)\n",
        "print(tensor0)\n",
        "print(\"The data structure type of tensor0: \", type(tensor0))\n",
        "print(\"The data type of tensor0: \", tensor0.dtype)\n",
        "print(\"The shape of tensor0: \", tensor0.shape)"
      ],
      "metadata": {
        "id": "W2a2Pv03VC6T",
        "colab": {
          "base_uri": "https://localhost:8080/"
        },
        "outputId": "52f317c2-992b-4725-c4f1-db25f5971807"
      },
      "execution_count": 3,
      "outputs": [
        {
          "output_type": "stream",
          "name": "stdout",
          "text": [
            "tensor([[1, 2],\n",
            "        [7, 4],\n",
            "        [5, 6]])\n",
            "The data structure type of tensor0:  <class 'torch.Tensor'>\n",
            "The data type of tensor0:  torch.int64\n",
            "The shape of tensor0:  torch.Size([3, 2])\n"
          ]
        }
      ]
    },
    {
      "cell_type": "code",
      "metadata": {
        "id": "RJbcImRI8ccN",
        "colab": {
          "base_uri": "https://localhost:8080/"
        },
        "outputId": "67316707-df3b-4166-d6d2-e18824f7db59"
      },
      "source": [
        "#Another way to construct a tensor from a numpy array, instead of regular array\n",
        "np_array = np.array([[1, 2], [7, 4], [5, 6]])\n",
        "tensor1 = torch.tensor(np_array)\n",
        "print(tensor1)"
      ],
      "execution_count": 4,
      "outputs": [
        {
          "output_type": "stream",
          "name": "stdout",
          "text": [
            "tensor([[1, 2],\n",
            "        [7, 4],\n",
            "        [5, 6]])\n"
          ]
        }
      ]
    },
    {
      "cell_type": "markdown",
      "metadata": {
        "id": "0aLWNPD36Xhk"
      },
      "source": [
        "**b. Common Methods: Slicing and Concatenation**\n",
        "\n",
        "*Slicing* of tensors is basically the same and slicing of numpy arrays"
      ]
    },
    {
      "cell_type": "code",
      "source": [
        "tensorA = torch.tensor([[1, 1, 1], [2, 2, 2]])\n",
        "tensorB = torch.tensor([[3, 3, 3], [4, 4, 4]])"
      ],
      "metadata": {
        "id": "Ih8oB57hsDaT"
      },
      "execution_count": 6,
      "outputs": []
    },
    {
      "cell_type": "code",
      "metadata": {
        "id": "YsXfH05t9eY8",
        "colab": {
          "base_uri": "https://localhost:8080/"
        },
        "outputId": "257009df-f84a-4ede-defa-3a4d10206e8f"
      },
      "source": [
        "# Slicing is all the same as numpy arrays\n",
        "print('Slicing the first two rows of tensorA (index one inclusive index two exclusive): ')\n",
        "print(tensorA[:2])\n",
        "print('Slicing the first two columns of tensorA (take all rows, then slice columns): ')\n",
        "print(tensorA[:, :2])"
      ],
      "execution_count": 7,
      "outputs": [
        {
          "output_type": "stream",
          "name": "stdout",
          "text": [
            "Slicing the first two rows of tensorA (index one inclusive index two exclusive): \n",
            "tensor([[1, 1, 1],\n",
            "        [2, 2, 2]])\n",
            "Slicing the first two columns of tensorA (take all rows, then slice columns): \n",
            "tensor([[1, 1],\n",
            "        [2, 2]])\n"
          ]
        }
      ]
    },
    {
      "cell_type": "markdown",
      "source": [
        "*Concatenation*"
      ],
      "metadata": {
        "id": "Hn4NdJvuciFW"
      }
    },
    {
      "cell_type": "code",
      "metadata": {
        "id": "WLUhrXYoFn53",
        "colab": {
          "base_uri": "https://localhost:8080/"
        },
        "outputId": "ddc4ea6d-dcfb-408b-a6ed-68ddfd1ee046"
      },
      "source": [
        "print('Vertically concatenate tensorA and tensorB: (default: dim=0)') #vertical concatination is default\n",
        "concat_v = torch.cat([tensorA, tensorB]) #you can concatinate torches vertically by making them one array\n",
        "print(concat_v)"
      ],
      "execution_count": 8,
      "outputs": [
        {
          "output_type": "stream",
          "name": "stdout",
          "text": [
            "Vertically concatenate tensorA and tensorB: (default: dim=0)\n",
            "tensor([[1, 1, 1],\n",
            "        [2, 2, 2],\n",
            "        [3, 3, 3],\n",
            "        [4, 4, 4]])\n"
          ]
        }
      ]
    },
    {
      "cell_type": "code",
      "metadata": {
        "id": "FzU279m9GbEj",
        "colab": {
          "base_uri": "https://localhost:8080/"
        },
        "outputId": "c757b3ce-9dba-4a4e-d166-5fed711bad86"
      },
      "source": [
        "print('Horizontally concatenate tensorA and tensorB: (dim=1)')\n",
        "concat_h = torch.cat([tensorA, tensorB], dim=1)\n",
        "print(concat_h)"
      ],
      "execution_count": 10,
      "outputs": [
        {
          "output_type": "stream",
          "name": "stdout",
          "text": [
            "Horizontally concatenate tensorA and tensorB: (dim=1)\n",
            "tensor([[1, 1, 1, 3, 3, 3],\n",
            "        [2, 2, 2, 4, 4, 4]])\n"
          ]
        }
      ]
    },
    {
      "cell_type": "code",
      "source": [],
      "metadata": {
        "id": "elNUEBUmDA3C"
      },
      "execution_count": null,
      "outputs": []
    }
  ]
}